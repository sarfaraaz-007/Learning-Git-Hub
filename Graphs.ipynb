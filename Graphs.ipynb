{
  "nbformat": 4,
  "nbformat_minor": 0,
  "metadata": {
    "colab": {
      "provenance": [],
      "authorship_tag": "ABX9TyOMq6XLHuYCp1Pl1SLqPg2Q",
      "include_colab_link": true
    },
    "kernelspec": {
      "name": "python3",
      "display_name": "Python 3"
    },
    "language_info": {
      "name": "python"
    }
  },
  "cells": [
    {
      "cell_type": "markdown",
      "metadata": {
        "id": "view-in-github",
        "colab_type": "text"
      },
      "source": [
        "<a href=\"https://colab.research.google.com/github/sarfaraaz-007/Learning-Git-Hub/blob/main/Graphs.ipynb\" target=\"_parent\"><img src=\"https://colab.research.google.com/assets/colab-badge.svg\" alt=\"Open In Colab\"/></a>"
      ]
    },
    {
      "cell_type": "code",
      "source": [
        "from collections import deque\n",
        "#Basic Graph Implementation using Adjacenecy Matrix\n",
        "class Graph:\n",
        "  def __init__(self, n_vertices):\n",
        "    self.n_vertices = n_vertices\n",
        "    self.adjMatrix = [[0 for i in range(n_vertices)] for j in range(n_vertices)]\n",
        "#Adding edge to the Graph\n",
        "  def add_edge(self, v1, v2):\n",
        "    self.adjMatrix[v1][v2] = 1\n",
        "    self.adjMatrix[v2][v1] = 1\n",
        "#Checking if a graph contains edge or not\n",
        "  def is_contains(self, v1, v2):\n",
        "    if self.adjMatrix[v1][v2] == 1 and self.adjMatrix[v2][v1] == 1:\n",
        "      return True\n",
        "    return False\n",
        "#To remove an edge from the Graph\n",
        "  def remove_edge(self, v1, v2):\n",
        "    if self.is_contains(v1, v2):\n",
        "      self.adjMatrix[v1][v2] = 0\n",
        "      self.adjMatrix[v2][v1] = 0\n",
        "#DFS Traversal\n",
        "  def dfs(self,sv):\n",
        "    visited = [False for i in range(self.n_vertices)]\n",
        "    self.__dfshelper(sv, visited)\n",
        "\n",
        "  def __dfshelper(self, sv, visited):\n",
        "    print(sv)\n",
        "    visited[sv] = True\n",
        "\n",
        "    for i in range(self.n_vertices):\n",
        "      if visited[i] == False and self.adjMatrix[sv][i] == 1:\n",
        "        self.__dfshelper(i, visited)\n",
        "#BFS Traversal\n",
        "  def bfs(self, sv):\n",
        "    visited = [False for i in range(self.n_vertices)]\n",
        "    queue = deque([sv])\n",
        "    visited[sv] = True\n",
        "    ans = []\n",
        "    while queue:\n",
        "      level = []\n",
        "      for i in range(len(queue)):\n",
        "        element = queue.popleft()\n",
        "        for i in range(self.n_vertices):\n",
        "          if self.adjMatrix[element][i] == 1 and visited[i] == False:\n",
        "            queue.append(i)\n",
        "            visited[i] = True\n",
        "        level.append(element)\n",
        "      ans.append(level)\n",
        "    return ans\n",
        "\n",
        "#If path exists between two nodes or not\n",
        "  def is_path(self, v1, v2):\n",
        "    visited = [False for i in range(self.n_vertices)]\n",
        "    return self.__is_path_helper(v1, v2, visited)\n",
        "\n",
        "  def __is_path_helper(self, v1, v2, visited):\n",
        "    visited[v1] = True\n",
        "    if self.is_contains(v1, v2):\n",
        "      return True\n",
        "\n",
        "    for i in range(self.n_vertices):\n",
        "      if self.adjMatrix[v1][i] == 1 and visited[i] == False:\n",
        "        if self.__is_path_helper(i, v2, visited):\n",
        "          return True\n",
        "\n",
        "    return False\n",
        "\n",
        "\n",
        "\n",
        "\n",
        "\n",
        "\n",
        "\n",
        "\n",
        "\n",
        "\n"
      ],
      "metadata": {
        "id": "mpZvc1YGErhn"
      },
      "execution_count": null,
      "outputs": []
    },
    {
      "cell_type": "code",
      "source": [
        "g1 = Graph(5)\n",
        "g1.add_edge(0,2)\n",
        "g1.add_edge(0,1)\n",
        "g1.add_edge(2,3)\n",
        "g1.add_edge(1,4)\n",
        "g1.add_edge(3,4)"
      ],
      "metadata": {
        "id": "4bdUl0h7QDcJ"
      },
      "execution_count": null,
      "outputs": []
    },
    {
      "cell_type": "code",
      "source": [
        "g1.adjMatrix"
      ],
      "metadata": {
        "colab": {
          "base_uri": "https://localhost:8080/"
        },
        "id": "JcEjZAQGQfS-",
        "outputId": "09953388-14f1-4cf5-eca8-18f5ab2e7b36"
      },
      "execution_count": null,
      "outputs": [
        {
          "output_type": "execute_result",
          "data": {
            "text/plain": [
              "[[0, 1, 1, 0, 0],\n",
              " [1, 0, 0, 0, 1],\n",
              " [1, 0, 0, 1, 0],\n",
              " [0, 0, 1, 0, 1],\n",
              " [0, 1, 0, 1, 0]]"
            ]
          },
          "metadata": {},
          "execution_count": 41
        }
      ]
    },
    {
      "cell_type": "code",
      "source": [
        "g1.dfs(0)"
      ],
      "metadata": {
        "colab": {
          "base_uri": "https://localhost:8080/"
        },
        "id": "mWrSzyUWSImb",
        "outputId": "3b89c121-f1df-4a47-9e02-72b1ad476eeb"
      },
      "execution_count": null,
      "outputs": [
        {
          "output_type": "stream",
          "name": "stdout",
          "text": [
            "0\n",
            "1\n",
            "4\n",
            "3\n",
            "2\n"
          ]
        }
      ]
    },
    {
      "cell_type": "code",
      "source": [
        "g1.bfs(0)"
      ],
      "metadata": {
        "colab": {
          "base_uri": "https://localhost:8080/"
        },
        "id": "VqnI1dFdHblR",
        "outputId": "0bad27df-5c68-4f57-f141-7581cfd793c0"
      },
      "execution_count": null,
      "outputs": [
        {
          "output_type": "execute_result",
          "data": {
            "text/plain": [
              "[[0], [1, 2], [4, 3]]"
            ]
          },
          "metadata": {},
          "execution_count": 43
        }
      ]
    },
    {
      "cell_type": "code",
      "source": [
        "g1.is_path(0, 4)"
      ],
      "metadata": {
        "colab": {
          "base_uri": "https://localhost:8080/"
        },
        "id": "d0mAleggM-KM",
        "outputId": "b7942e71-b0c3-4980-ceed-e54ee8d281a7"
      },
      "execution_count": null,
      "outputs": [
        {
          "output_type": "execute_result",
          "data": {
            "text/plain": [
              "True"
            ]
          },
          "metadata": {},
          "execution_count": 44
        }
      ]
    },
    {
      "cell_type": "code",
      "source": [
        "#DFS and BFS for disconnected Graphs\n",
        "from collections import deque\n",
        "class Graph:\n",
        "  def __init__(self, n_vertices):\n",
        "    self.n_vertices = n_vertices\n",
        "    self.adjMatrix = [[0 for i in range(self.n_vertices)] for i in range(self.n_vertices)]\n",
        "\n",
        "  def add_edge(self, v1, v2):\n",
        "    self.adjMatrix[v1][v2] = 1\n",
        "    self.adjMatrix[v2][v1] = 1\n",
        "\n",
        "  def remove_edge(self, v1, v2):\n",
        "    if self.is_edge(v1, v2):\n",
        "      self.adjMatrix[v1][v2] = 0\n",
        "      self.adjMatrix[v2][v1] = 0\n",
        "\n",
        "  def is_edge(self, v1, v2):\n",
        "    if self.adjMatrix[v1][v2] == 1:\n",
        "      return True\n",
        "    return False\n",
        "#DFS Traversal for disconnected Graph\n",
        "  def dfs(self):\n",
        "    visited = [False for i in range(self.n_vertices)]\n",
        "    for i in range(self.n_vertices):  #We will be checking for all the verices\n",
        "      if visited[i] == False:\n",
        "        self.dfs_helper(i, visited)\n",
        "  def dfs_helper(self, sv, visited):\n",
        "    print(sv)\n",
        "    visited[sv] = True\n",
        "    for i in range(self.n_vertices):\n",
        "      if self.adjMatrix[sv][i] == 1 and visited [i] == False:\n",
        "        self.dfs_helper(i, visited)\n",
        " #BFS for disconnected Graph\n",
        "  def bfs(self):\n",
        "    visited = [False for i in range(self.n_vertices)]\n",
        "    for i in range(self.n_vertices):\n",
        "      if visited[i] == False:\n",
        "        queue = deque([i])\n",
        "        visited[i] = True\n",
        "        while queue:\n",
        "          level = []\n",
        "          for i in range(len(queue)):\n",
        "            element = queue.popleft()\n",
        "            for i in range(self.n_vertices):\n",
        "              if self.adjMatrix[element][i] == 1 and visited[i] == False:\n",
        "                queue.append(i)\n",
        "                visited[i] = True\n",
        "            level.append(element)\n",
        "          print(level)\n"
      ],
      "metadata": {
        "id": "-tS3cnLZOn1s"
      },
      "execution_count": null,
      "outputs": []
    },
    {
      "cell_type": "code",
      "source": [
        "g1 = Graph(10)\n",
        "g1.add_edge(0,2)\n",
        "g1.add_edge(0,1)\n",
        "g1.add_edge(2,3)\n",
        "g1.add_edge(1,4)\n",
        "g1.add_edge(6,9)\n",
        "g1.add_edge(8,7)\n"
      ],
      "metadata": {
        "id": "yzAjiWijRLU5"
      },
      "execution_count": null,
      "outputs": []
    },
    {
      "cell_type": "code",
      "source": [
        "g1.bfs()"
      ],
      "metadata": {
        "colab": {
          "base_uri": "https://localhost:8080/"
        },
        "id": "mGFHlFLCRiCM",
        "outputId": "a3efab87-85fd-41d2-aaf7-a1623f0a2def"
      },
      "execution_count": null,
      "outputs": [
        {
          "output_type": "stream",
          "name": "stdout",
          "text": [
            "[0]\n",
            "[1, 2]\n",
            "[4, 3]\n",
            "[5]\n",
            "[6]\n",
            "[9]\n",
            "[7]\n",
            "[8]\n"
          ]
        }
      ]
    },
    {
      "cell_type": "code",
      "source": [
        "#DFS Path\n",
        "class Graph:\n",
        "  def __init__(self, n_vertices):\n",
        "    self.n_vertices = n_vertices\n",
        "    self.adjMatrix = [[0 for i in range(self.n_vertices)] for i in range(self.n_vertices)]\n",
        "\n",
        "  def add_edge(self, v1, v2):\n",
        "    self.adjMatrix[v1][v2] = 1\n",
        "    self.adjMatrix[v2][v1] = 1\n",
        "\n",
        "  def remove_edge(self, v1, v2):\n",
        "    if self.is_edge(v1, v2):\n",
        "      self.adjMatrix[v1][v2] = 0\n",
        "      self.adjMatrix[v2][v1] = 0\n",
        "\n",
        "  def is_edge(self, v1, v2):\n",
        "    if self.adjMatrix[v1][v2] == 1:\n",
        "      return True\n",
        "    return False\n",
        "\n",
        "  def dfs_path(self, v1, v2):\n",
        "\n",
        "    visited = [False for i in range(self.n_vertices)]\n",
        "    path = []\n",
        "    return self.path_helper(v1, v2, visited, path)\n",
        "\n",
        "  def path_helper(self, v1, v2, visited, path):\n",
        "    visited[v1] = True\n",
        "    if self.is_edge(v1, v2):\n",
        "      path.append(v2)\n",
        "      path.append(v1)\n",
        "      return path\n",
        "    for i in range(self.n_vertices):\n",
        "      if self.adjMatrix[v1][i] == 1 and visited[i] == False:\n",
        "        visited[i] = True\n",
        "        if len(self.path_helper(i, v2, visited, path))!=0:\n",
        "          path.append(i)\n",
        "    return path\n",
        "\n",
        "\n",
        "\n",
        "\n",
        "\n",
        "\n"
      ],
      "metadata": {
        "id": "6oDGChytV1h-"
      },
      "execution_count": null,
      "outputs": []
    },
    {
      "cell_type": "code",
      "source": [
        "g1 = Graph(10)\n",
        "g1.add_edge(0,2)\n",
        "g1.add_edge(0,1)\n",
        "g1.add_edge(2,3)\n",
        "g1.add_edge(1,4)\n",
        "g1.add_edge(6,9)\n",
        "g1.add_edge(8,7)\n",
        "g1.dfs_path(0,4)"
      ],
      "metadata": {
        "colab": {
          "base_uri": "https://localhost:8080/"
        },
        "id": "8qwUrDdPZ86a",
        "outputId": "48b5087c-bba2-4046-884a-2e5b39482670"
      },
      "execution_count": null,
      "outputs": [
        {
          "output_type": "execute_result",
          "data": {
            "text/plain": [
              "[4, 1, 1, 3, 2]"
            ]
          },
          "metadata": {},
          "execution_count": 36
        }
      ]
    }
  ]
}